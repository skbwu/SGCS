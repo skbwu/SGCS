{
 "cells": [
  {
   "cell_type": "code",
   "execution_count": 112,
   "id": "b0c79218",
   "metadata": {},
   "outputs": [],
   "source": [
    "import numpy as np\n",
    "import pandas as pd\n",
    "import sys, copy, os, shutil\n",
    "from tqdm.notebook import tqdm"
   ]
  },
  {
   "cell_type": "code",
   "execution_count": 121,
   "id": "c149c8c6",
   "metadata": {},
   "outputs": [],
   "source": [
    "# create a dataframe for logs of which runs have finished successfully or not\n",
    "logs = pd.DataFrame(data=None, columns=[\"dataset\", \"variant\", \"seed\", \"finished_epochs\"])\n",
    "\n",
    "# go thru all resnet variants and see which ones succeeded and/or failed\n",
    "for dataset in [\"MNIST\", \"FashionMNIST\", \"CIFAR10\"]:\n",
    "    for variant in [20, 30, 44]:\n",
    "        for seed in range(50):\n",
    "            \n",
    "            # assemble our foldername + check if it exists\n",
    "            foldername = f\"models/{dataset}/resnet_variant={variant}_seed={str(seed).zfill(3)}\"\n",
    "            if os.path.exists(foldername) == False:\n",
    "                finished_epochs = -1\n",
    "            elif len(os.listdir(foldername)) == 0:\n",
    "                finished_epochs = 0\n",
    "            else:\n",
    "                finished_epochs = len([f for f in os.listdir(foldername) if \".pth\" in f])\n",
    "                \n",
    "            # create our row\n",
    "            logs.loc[len(logs.index)] = [dataset, variant, seed, finished_epochs]"
   ]
  },
  {
   "cell_type": "code",
   "execution_count": 122,
   "id": "39df7509",
   "metadata": {},
   "outputs": [],
   "source": [
    "# creating new payload for CIFAR-10 RESNET re-runs\n",
    "cifar_fails = copy.deepcopy(logs.query(\"finished_epochs != 100 and dataset == 'CIFAR10'\")).reset_index(drop=True)\n",
    "cifar_fails[\"var_id\"] = [{20 : 0, 30 : 1, 44 : 2}[val] for val in cifar_fails.variant]"
   ]
  },
  {
   "cell_type": "code",
   "execution_count": 123,
   "id": "b8f24863",
   "metadata": {},
   "outputs": [],
   "source": [
    "# creating new payload for MNIST family RESNET re-runs\n",
    "mnist_fails = copy.deepcopy(logs.query(\"finished_epochs != 100 and dataset != 'CIFAR10'\")).reset_index(drop=True)\n",
    "mnist_fails[\"var_id\"] = [{20 : 0, 30 : 1, 44 : 2}[val] for val in mnist_fails.variant]"
   ]
  },
  {
   "cell_type": "code",
   "execution_count": 126,
   "id": "f5cd234f",
   "metadata": {},
   "outputs": [],
   "source": [
    "'''\n",
    "# save our CIFAR-10 fails so that we can rerun (65 of them!)\n",
    "cifar_fails.to_csv(\"cifar_fails.csv\", index=False)\n",
    "'''"
   ]
  }
 ],
 "metadata": {
  "kernelspec": {
   "display_name": "Python 3.10 (Afterburner)",
   "language": "python",
   "name": "afterburner"
  },
  "language_info": {
   "codemirror_mode": {
    "name": "ipython",
    "version": 3
   },
   "file_extension": ".py",
   "mimetype": "text/x-python",
   "name": "python",
   "nbconvert_exporter": "python",
   "pygments_lexer": "ipython3",
   "version": "3.10.9"
  }
 },
 "nbformat": 4,
 "nbformat_minor": 5
}
