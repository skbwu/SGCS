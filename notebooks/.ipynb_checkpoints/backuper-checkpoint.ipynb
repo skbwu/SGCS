{
 "cells": [
  {
   "cell_type": "code",
   "execution_count": 1,
   "id": "f78ff4ff",
   "metadata": {},
   "outputs": [],
   "source": [
    "import numpy as np\n",
    "import pandas as pd\n",
    "import sys, copy, os, shutil\n",
    "from tqdm.notebook import tqdm\n",
    "from IPython.display import clear_output\n",
    "\n",
    "# make a directory to store our backups of the last .pth files\n",
    "if \"288_final\" not in os.listdir(\"/n/holyscratch01/kou_lab/swu\"):\n",
    "    os.mkdir(\"/n/holyscratch01/kou_lab/swu/288_final\")\n",
    "if \"models\" not in os.listdir(\"/n/holyscratch01/kou_lab/swu/288_final\"):\n",
    "    os.mkdir(\"/n/holyscratch01/kou_lab/swu/288_final/models\")"
   ]
  },
  {
   "cell_type": "code",
   "execution_count": 7,
   "id": "c5ef4fbc",
   "metadata": {},
   "outputs": [],
   "source": [
    "# iterate thru everything we have so far\n",
    "for dataset in os.listdir(\"models\"):\n",
    "    \n",
    "    # make a directory in 288_finals if necessary for this dataset\n",
    "    if dataset not in os.listdir(\"/n/holyscratch01/kou_lab/swu/288_final/models\"):\n",
    "        os.mkdir(f\"/n/holyscratch01/kou_lab/swu/288_final/models/{dataset}\")\n",
    "        \n",
    "    # go thru all the foldernames\n",
    "    for foldername in sorted(os.listdir(f\"models/{dataset}\")):\n",
    "        \n",
    "        # what files do we have?\n",
    "        fnames = os.listdir(f\"models/{dataset}/{foldername}\")\n",
    "        \n",
    "        # what files are we supposed to have?\n",
    "        intended_fnames = [f\"{str(i).zfill(3)}.pth\" for i in range(100)] + [\"logs.csv\"]\n",
    "        \n",
    "        # files to delete?\n",
    "        delete_fnames = [f for f in fnames if f not in intended_fnames]\n",
    "        for fname in delete_fnames:\n",
    "            shutil.rmtree(f\"models/{dataset}/{foldername}/{fname}\")\n",
    "            \n",
    "        # make a directory for this foldername in our backup\n",
    "        if foldername not in os.listdir(f\"/n/holyscratch01/kou_lab/swu/288_final/models/{dataset}\"):\n",
    "            os.mkdir(f\"/n/holyscratch01/kou_lab/swu/288_final/models/{dataset}/{foldername}\")\n",
    "            \n",
    "        # copy \"099.pth\" and \"logs.csv\"\n",
    "        shutil.copy(f\"models/{dataset}/{foldername}/099.pth\",\n",
    "                    f\"/n/holyscratch01/kou_lab/swu/288_final_models/{dataset}/{foldername}/\")\n",
    "        \n",
    "        break\n",
    "    break"
   ]
  },
  {
   "cell_type": "code",
   "execution_count": null,
   "id": "a15f6245",
   "metadata": {},
   "outputs": [],
   "source": [
    "if len(fnames) > 0:\n",
    "            \n",
    "            # make a directory for this foldername in our backup\n",
    "            if foldername not in os.listdir(f\"/n/holyscratch01/kou_lab/swu/288_final_models/{dataset}\"):\n",
    "                os.mkdir(f\"/n/holyscratch01/kou_lab/swu/288_final_models/{dataset}/{foldername}\")\n",
    "            \n",
    "            # get this last epoch's saved weights + copy it to our backup directory\n",
    "            last_fname = [f for f in sorted(fnames) if \".pth\" in f][-1]\n",
    "            shutil.copy(f\"models/{dataset}/{foldername}/{last_fname}\",\n",
    "                        f\"/n/holyscratch01/kou_lab/swu/288_final_models/{dataset}/{foldername}/\")"
   ]
  }
 ],
 "metadata": {
  "kernelspec": {
   "display_name": "Python 3.10 (Afterburner)",
   "language": "python",
   "name": "afterburner"
  },
  "language_info": {
   "codemirror_mode": {
    "name": "ipython",
    "version": 3
   },
   "file_extension": ".py",
   "mimetype": "text/x-python",
   "name": "python",
   "nbconvert_exporter": "python",
   "pygments_lexer": "ipython3",
   "version": "3.10.9"
  }
 },
 "nbformat": 4,
 "nbformat_minor": 5
}
