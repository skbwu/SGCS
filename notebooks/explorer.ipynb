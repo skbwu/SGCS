{
 "cells": [
  {
   "cell_type": "code",
   "execution_count": 1,
   "id": "f41b1251",
   "metadata": {},
   "outputs": [],
   "source": [
    "import numpy as np\n",
    "import torch\n",
    "import torch.nn as nn\n",
    "import torch.nn.functional as F\n",
    "import torch.optim as optim\n",
    "from torch.optim.lr_scheduler import OneCycleLR\n",
    "from torch.utils.data import DataLoader\n",
    "import torchvision\n",
    "import torchvision.transforms as transforms\n",
    "import sys, copy, os, shutil, time\n",
    "from tqdm.notebook import tqdm"
   ]
  },
  {
   "cell_type": "code",
   "execution_count": 58,
   "id": "13b30648",
   "metadata": {},
   "outputs": [],
   "source": [
    "'''\n",
    "2 modules: 14110 parameters.\n",
    "3 modules: 5130 parameters.\n",
    "4 modules: 2750 parameters.\n",
    "'''\n",
    "class MNIST_CNN(nn.Module):\n",
    "    def __init__(self, num_modules):\n",
    "        super().__init__()\n",
    "        \n",
    "        # record our param\n",
    "        self.num_modules = num_modules\n",
    "        \n",
    "        # first conv + pool module\n",
    "        self.conv1 = nn.Conv2d(in_channels=1, out_channels=32, kernel_size=3, padding=0)\n",
    "        self.pool1 = nn.MaxPool2d(kernel_size=2, stride=2, ceil_mode=True)\n",
    "        \n",
    "        # add second conv + pool module ONLY IF num_modules >= 2\n",
    "        if num_modules >= 2:\n",
    "            self.conv2 = nn.Conv2d(in_channels=32, out_channels=32, kernel_size=3, groups=32, padding=1)\n",
    "            self.conv3 = nn.Conv2d(in_channels=32, out_channels=20, kernel_size=1)\n",
    "            self.pool2 = nn.MaxPool2d(kernel_size=2, stride=2, ceil_mode=True)\n",
    "\n",
    "         # add third conv + pool module ONLY IF num_modules >= 3\n",
    "        if num_modules >= 3:\n",
    "            self.conv4 = nn.Conv2d(in_channels=20, out_channels=20, kernel_size=3, groups=20, padding=1)\n",
    "            self.conv5 = nn.Conv2d(in_channels=20, out_channels=20, kernel_size=1)\n",
    "            self.pool3 = nn.MaxPool2d(kernel_size=2, stride=2, ceil_mode=True)\n",
    "\n",
    "         # add fourth conv + pool module ONLY IF num_modules >= 4\n",
    "        if num_modules >= 4:\n",
    "            self.conv6 = nn.Conv2d(in_channels=20, out_channels=20, kernel_size=3, groups=20, padding=1)\n",
    "            self.conv7 = nn.Conv2d(in_channels=20, out_channels=20, kernel_size=1)\n",
    "            self.pool4 = nn.MaxPool2d(kernel_size=4, stride=4, ceil_mode=True)\n",
    "\n",
    "        # final linear output layer\n",
    "        if num_modules == 2:\n",
    "            self.linear = nn.Linear(in_features=1280, out_features=10)\n",
    "        elif num_modules == 3:\n",
    "            self.linear = nn.Linear(in_features=320, out_features=10)\n",
    "        elif num_modules == 4:\n",
    "            self.linear = nn.Linear(in_features=20, out_features=10)\n",
    "\n",
    "    # governs the forward-pass\n",
    "    def forward(self, x):\n",
    "        \n",
    "        # always do this part\n",
    "        x = self.conv1(x)\n",
    "        x = self.pool1(x)\n",
    "        x = F.relu(x)\n",
    "\n",
    "        # checkpointing just like constructor\n",
    "        if self.num_modules >= 2:\n",
    "            x = self.conv2(x)\n",
    "            x = self.conv3(x)\n",
    "            x = self.pool2(x)\n",
    "            x = F.relu(x)\n",
    "        if self.num_modules >= 3:\n",
    "            x = self.conv4(x)\n",
    "            x = self.conv5(x)\n",
    "            x = self.pool3(x)\n",
    "            x = F.relu(x)\n",
    "        if self.num_modules >= 4:\n",
    "            x = self.conv6(x)\n",
    "            x = self.conv7(x)\n",
    "            x = self.pool4(x)\n",
    "            x = F.relu(x)\n",
    "        \n",
    "        # reshape based on the number of convolutional layers\n",
    "        if self.num_modules == 2:\n",
    "            x = x.reshape(-1, 1280)\n",
    "        elif self.num_modules == 3:\n",
    "            x = x.reshape(-1, 320)\n",
    "        elif self.num_modules == 4:\n",
    "            x = x.reshape(-1, 20)\n",
    "        \n",
    "        # apply our final output layer\n",
    "        x = self.linear(x)\n",
    "\n",
    "        return x"
   ]
  },
  {
   "cell_type": "code",
   "execution_count": 62,
   "id": "93ebd8b4",
   "metadata": {},
   "outputs": [
    {
     "data": {
      "text/plain": [
       "2750"
      ]
     },
     "execution_count": 62,
     "metadata": {},
     "output_type": "execute_result"
    }
   ],
   "source": [
    "sum(p.numel() for p in MNIST_CNN(num_modules=4).parameters())"
   ]
  }
 ],
 "metadata": {
  "kernelspec": {
   "display_name": "Python 3.10 (Afterburner)",
   "language": "python",
   "name": "afterburner"
  },
  "language_info": {
   "codemirror_mode": {
    "name": "ipython",
    "version": 3
   },
   "file_extension": ".py",
   "mimetype": "text/x-python",
   "name": "python",
   "nbconvert_exporter": "python",
   "pygments_lexer": "ipython3",
   "version": "3.10.9"
  }
 },
 "nbformat": 4,
 "nbformat_minor": 5
}
